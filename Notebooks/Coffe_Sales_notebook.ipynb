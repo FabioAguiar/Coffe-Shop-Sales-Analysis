{
 "cells": [
  {
   "cell_type": "code",
   "execution_count": 155,
   "id": "27ee9fa1-be58-439b-b307-ebfe23504c12",
   "metadata": {},
   "outputs": [
    {
     "name": "stderr",
     "output_type": "stream",
     "text": [
      "<>:8: SyntaxWarning: invalid escape sequence '\\D'\n",
      "<>:8: SyntaxWarning: invalid escape sequence '\\D'\n",
      "C:\\Users\\fabio\\AppData\\Local\\Temp\\ipykernel_5508\\2500401819.py:8: SyntaxWarning: invalid escape sequence '\\D'\n",
      "  coffe_df = pd.read_csv('C:\\Data\\CoffeeShopSales.csv', sep=';', header='infer')\n"
     ]
    }
   ],
   "source": [
    "#import os\n",
    "#import sys\n",
    "#os.environ['PYSPARK_PYTHON'] = sys.executable\n",
    "#os.environ['PYSPARK_DRIVER_PYTHON'] = sys.executable\n",
    "\n",
    "#import pyspark.pandas as pspd\n",
    "import pandas as pd\n",
    "coffe_df = pd.read_csv('/home/jovyan/data/CoffeeShopSales.csv', sep=';', header='infer')"
   ]
  },
  {
   "cell_type": "code",
   "execution_count": 156,
   "id": "8aded72e-eb78-47b2-a9ce-dbc1ebf5d1ac",
   "metadata": {},
   "outputs": [
    {
     "data": {
      "text/html": [
       "<div>\n",
       "<style scoped>\n",
       "    .dataframe tbody tr th:only-of-type {\n",
       "        vertical-align: middle;\n",
       "    }\n",
       "\n",
       "    .dataframe tbody tr th {\n",
       "        vertical-align: top;\n",
       "    }\n",
       "\n",
       "    .dataframe thead th {\n",
       "        text-align: right;\n",
       "    }\n",
       "</style>\n",
       "<table border=\"1\" class=\"dataframe\">\n",
       "  <thead>\n",
       "    <tr style=\"text-align: right;\">\n",
       "      <th></th>\n",
       "      <th>transaction_id</th>\n",
       "      <th>transaction_date</th>\n",
       "      <th>transaction_time</th>\n",
       "      <th>transaction_qty</th>\n",
       "      <th>store_id</th>\n",
       "      <th>store_location</th>\n",
       "      <th>product_id</th>\n",
       "      <th>unit_price</th>\n",
       "      <th>product_category</th>\n",
       "      <th>product_type</th>\n",
       "      <th>product_detail</th>\n",
       "    </tr>\n",
       "  </thead>\n",
       "  <tbody>\n",
       "    <tr>\n",
       "      <th>0</th>\n",
       "      <td>1</td>\n",
       "      <td>01/01/2023</td>\n",
       "      <td>07:06:11</td>\n",
       "      <td>2</td>\n",
       "      <td>5</td>\n",
       "      <td>Lower Manhattan</td>\n",
       "      <td>32</td>\n",
       "      <td>3</td>\n",
       "      <td>Coffee</td>\n",
       "      <td>Gourmet brewed coffee</td>\n",
       "      <td>Ethiopia Rg</td>\n",
       "    </tr>\n",
       "    <tr>\n",
       "      <th>1</th>\n",
       "      <td>2</td>\n",
       "      <td>01/01/2023</td>\n",
       "      <td>07:08:56</td>\n",
       "      <td>2</td>\n",
       "      <td>5</td>\n",
       "      <td>Lower Manhattan</td>\n",
       "      <td>57</td>\n",
       "      <td>3,1</td>\n",
       "      <td>Tea</td>\n",
       "      <td>Brewed Chai tea</td>\n",
       "      <td>Spicy Eye Opener Chai Lg</td>\n",
       "    </tr>\n",
       "    <tr>\n",
       "      <th>2</th>\n",
       "      <td>3</td>\n",
       "      <td>01/01/2023</td>\n",
       "      <td>07:14:04</td>\n",
       "      <td>2</td>\n",
       "      <td>5</td>\n",
       "      <td>Lower Manhattan</td>\n",
       "      <td>59</td>\n",
       "      <td>4,5</td>\n",
       "      <td>Drinking Chocolate</td>\n",
       "      <td>Hot chocolate</td>\n",
       "      <td>Dark chocolate Lg</td>\n",
       "    </tr>\n",
       "    <tr>\n",
       "      <th>3</th>\n",
       "      <td>4</td>\n",
       "      <td>01/01/2023</td>\n",
       "      <td>07:20:24</td>\n",
       "      <td>1</td>\n",
       "      <td>5</td>\n",
       "      <td>Lower Manhattan</td>\n",
       "      <td>22</td>\n",
       "      <td>2</td>\n",
       "      <td>Coffee</td>\n",
       "      <td>Drip coffee</td>\n",
       "      <td>Our Old Time Diner Blend Sm</td>\n",
       "    </tr>\n",
       "    <tr>\n",
       "      <th>4</th>\n",
       "      <td>5</td>\n",
       "      <td>01/01/2023</td>\n",
       "      <td>07:22:41</td>\n",
       "      <td>2</td>\n",
       "      <td>5</td>\n",
       "      <td>Lower Manhattan</td>\n",
       "      <td>57</td>\n",
       "      <td>3,1</td>\n",
       "      <td>Tea</td>\n",
       "      <td>Brewed Chai tea</td>\n",
       "      <td>Spicy Eye Opener Chai Lg</td>\n",
       "    </tr>\n",
       "  </tbody>\n",
       "</table>\n",
       "</div>"
      ],
      "text/plain": [
       "   transaction_id transaction_date transaction_time  transaction_qty  \\\n",
       "0               1       01/01/2023         07:06:11                2   \n",
       "1               2       01/01/2023         07:08:56                2   \n",
       "2               3       01/01/2023         07:14:04                2   \n",
       "3               4       01/01/2023         07:20:24                1   \n",
       "4               5       01/01/2023         07:22:41                2   \n",
       "\n",
       "   store_id   store_location  product_id unit_price    product_category  \\\n",
       "0         5  Lower Manhattan          32          3              Coffee   \n",
       "1         5  Lower Manhattan          57        3,1                 Tea   \n",
       "2         5  Lower Manhattan          59        4,5  Drinking Chocolate   \n",
       "3         5  Lower Manhattan          22          2              Coffee   \n",
       "4         5  Lower Manhattan          57        3,1                 Tea   \n",
       "\n",
       "            product_type               product_detail  \n",
       "0  Gourmet brewed coffee                  Ethiopia Rg  \n",
       "1        Brewed Chai tea     Spicy Eye Opener Chai Lg  \n",
       "2          Hot chocolate            Dark chocolate Lg  \n",
       "3            Drip coffee  Our Old Time Diner Blend Sm  \n",
       "4        Brewed Chai tea     Spicy Eye Opener Chai Lg  "
      ]
     },
     "execution_count": 156,
     "metadata": {},
     "output_type": "execute_result"
    }
   ],
   "source": [
    "coffe_df.head()"
   ]
  },
  {
   "cell_type": "markdown",
   "id": "f69d9246-9e8e-4125-abb0-41f0a5973522",
   "metadata": {},
   "source": [
    "# Transformações nos dados"
   ]
  },
  {
   "cell_type": "code",
   "execution_count": 157,
   "id": "c9bb739c-98ea-4e91-a881-31fb91d4f4d5",
   "metadata": {},
   "outputs": [],
   "source": [
    "coffe_df['unit_price'] = coffe_df['unit_price'].astype(str).str.replace(',', '.', regex=False).astype(float)"
   ]
  },
  {
   "cell_type": "code",
   "execution_count": 158,
   "id": "942e20d3-c78a-4323-9c8e-1f647b403863",
   "metadata": {},
   "outputs": [],
   "source": [
    "coffe_df['transaction_datetime'] = coffe_df['transaction_date'] + ' ' + coffe_df['transaction_time']"
   ]
  },
  {
   "cell_type": "code",
   "execution_count": 159,
   "id": "e14fb30d-37ef-4ff2-9a84-69a35d0ae363",
   "metadata": {},
   "outputs": [],
   "source": [
    "coffe_df['transaction_datetime'] = pd.to_datetime(coffe_df['transaction_datetime'], format='%d/%m/%Y %H:%M:%S')"
   ]
  },
  {
   "cell_type": "code",
   "execution_count": 160,
   "id": "701228af-38eb-4a80-99fb-d47bc0851ab4",
   "metadata": {},
   "outputs": [],
   "source": [
    "coffe_df['transaction_date'] = pd.to_datetime(coffe_df['transaction_date'], format='%d/%m/%Y')"
   ]
  },
  {
   "cell_type": "code",
   "execution_count": 161,
   "id": "d9d2ccf1-d0f2-420b-9e57-27fb847637a3",
   "metadata": {},
   "outputs": [],
   "source": [
    "coffe_df = coffe_df.assign(\n",
    "    total_value=coffe_df['unit_price'] * coffe_df['transaction_qty'],\n",
    ")\n",
    "coffe_df = coffe_df.round(decimals=2)"
   ]
  },
  {
   "cell_type": "code",
   "execution_count": 163,
   "id": "20f4627f-d1bb-46ed-9804-0b22dc6c3ba1",
   "metadata": {},
   "outputs": [
    {
     "data": {
      "text/html": [
       "<div>\n",
       "<style scoped>\n",
       "    .dataframe tbody tr th:only-of-type {\n",
       "        vertical-align: middle;\n",
       "    }\n",
       "\n",
       "    .dataframe tbody tr th {\n",
       "        vertical-align: top;\n",
       "    }\n",
       "\n",
       "    .dataframe thead th {\n",
       "        text-align: right;\n",
       "    }\n",
       "</style>\n",
       "<table border=\"1\" class=\"dataframe\">\n",
       "  <thead>\n",
       "    <tr style=\"text-align: right;\">\n",
       "      <th></th>\n",
       "      <th>transaction_id</th>\n",
       "      <th>transaction_date</th>\n",
       "      <th>transaction_time</th>\n",
       "      <th>transaction_qty</th>\n",
       "      <th>store_id</th>\n",
       "      <th>store_location</th>\n",
       "      <th>product_id</th>\n",
       "      <th>unit_price</th>\n",
       "      <th>product_category</th>\n",
       "      <th>product_type</th>\n",
       "      <th>product_detail</th>\n",
       "      <th>transaction_datetime</th>\n",
       "      <th>total_value</th>\n",
       "    </tr>\n",
       "  </thead>\n",
       "  <tbody>\n",
       "    <tr>\n",
       "      <th>0</th>\n",
       "      <td>1</td>\n",
       "      <td>2023-01-01</td>\n",
       "      <td>07:06:11</td>\n",
       "      <td>2</td>\n",
       "      <td>5</td>\n",
       "      <td>Lower Manhattan</td>\n",
       "      <td>32</td>\n",
       "      <td>3.0</td>\n",
       "      <td>Coffee</td>\n",
       "      <td>Gourmet brewed coffee</td>\n",
       "      <td>Ethiopia Rg</td>\n",
       "      <td>2023-01-01 07:06:11</td>\n",
       "      <td>6.0</td>\n",
       "    </tr>\n",
       "    <tr>\n",
       "      <th>1</th>\n",
       "      <td>2</td>\n",
       "      <td>2023-01-01</td>\n",
       "      <td>07:08:56</td>\n",
       "      <td>2</td>\n",
       "      <td>5</td>\n",
       "      <td>Lower Manhattan</td>\n",
       "      <td>57</td>\n",
       "      <td>3.1</td>\n",
       "      <td>Tea</td>\n",
       "      <td>Brewed Chai tea</td>\n",
       "      <td>Spicy Eye Opener Chai Lg</td>\n",
       "      <td>2023-01-01 07:08:56</td>\n",
       "      <td>6.2</td>\n",
       "    </tr>\n",
       "    <tr>\n",
       "      <th>2</th>\n",
       "      <td>3</td>\n",
       "      <td>2023-01-01</td>\n",
       "      <td>07:14:04</td>\n",
       "      <td>2</td>\n",
       "      <td>5</td>\n",
       "      <td>Lower Manhattan</td>\n",
       "      <td>59</td>\n",
       "      <td>4.5</td>\n",
       "      <td>Drinking Chocolate</td>\n",
       "      <td>Hot chocolate</td>\n",
       "      <td>Dark chocolate Lg</td>\n",
       "      <td>2023-01-01 07:14:04</td>\n",
       "      <td>9.0</td>\n",
       "    </tr>\n",
       "    <tr>\n",
       "      <th>3</th>\n",
       "      <td>4</td>\n",
       "      <td>2023-01-01</td>\n",
       "      <td>07:20:24</td>\n",
       "      <td>1</td>\n",
       "      <td>5</td>\n",
       "      <td>Lower Manhattan</td>\n",
       "      <td>22</td>\n",
       "      <td>2.0</td>\n",
       "      <td>Coffee</td>\n",
       "      <td>Drip coffee</td>\n",
       "      <td>Our Old Time Diner Blend Sm</td>\n",
       "      <td>2023-01-01 07:20:24</td>\n",
       "      <td>2.0</td>\n",
       "    </tr>\n",
       "    <tr>\n",
       "      <th>4</th>\n",
       "      <td>5</td>\n",
       "      <td>2023-01-01</td>\n",
       "      <td>07:22:41</td>\n",
       "      <td>2</td>\n",
       "      <td>5</td>\n",
       "      <td>Lower Manhattan</td>\n",
       "      <td>57</td>\n",
       "      <td>3.1</td>\n",
       "      <td>Tea</td>\n",
       "      <td>Brewed Chai tea</td>\n",
       "      <td>Spicy Eye Opener Chai Lg</td>\n",
       "      <td>2023-01-01 07:22:41</td>\n",
       "      <td>6.2</td>\n",
       "    </tr>\n",
       "  </tbody>\n",
       "</table>\n",
       "</div>"
      ],
      "text/plain": [
       "   transaction_id transaction_date transaction_time  transaction_qty  \\\n",
       "0               1       2023-01-01         07:06:11                2   \n",
       "1               2       2023-01-01         07:08:56                2   \n",
       "2               3       2023-01-01         07:14:04                2   \n",
       "3               4       2023-01-01         07:20:24                1   \n",
       "4               5       2023-01-01         07:22:41                2   \n",
       "\n",
       "   store_id   store_location  product_id  unit_price    product_category  \\\n",
       "0         5  Lower Manhattan          32         3.0              Coffee   \n",
       "1         5  Lower Manhattan          57         3.1                 Tea   \n",
       "2         5  Lower Manhattan          59         4.5  Drinking Chocolate   \n",
       "3         5  Lower Manhattan          22         2.0              Coffee   \n",
       "4         5  Lower Manhattan          57         3.1                 Tea   \n",
       "\n",
       "            product_type               product_detail transaction_datetime  \\\n",
       "0  Gourmet brewed coffee                  Ethiopia Rg  2023-01-01 07:06:11   \n",
       "1        Brewed Chai tea     Spicy Eye Opener Chai Lg  2023-01-01 07:08:56   \n",
       "2          Hot chocolate            Dark chocolate Lg  2023-01-01 07:14:04   \n",
       "3            Drip coffee  Our Old Time Diner Blend Sm  2023-01-01 07:20:24   \n",
       "4        Brewed Chai tea     Spicy Eye Opener Chai Lg  2023-01-01 07:22:41   \n",
       "\n",
       "   total_value  \n",
       "0          6.0  \n",
       "1          6.2  \n",
       "2          9.0  \n",
       "3          2.0  \n",
       "4          6.2  "
      ]
     },
     "execution_count": 163,
     "metadata": {},
     "output_type": "execute_result"
    }
   ],
   "source": [
    "coffe_df.head()"
   ]
  },
  {
   "cell_type": "markdown",
   "id": "20a1c55d-1be5-49fb-834e-2a0e46e12b85",
   "metadata": {},
   "source": [
    "# Receita por Categoria de Produto\n",
    "### Objetivo no Power BI: Criar gráficos de barras ou pizza para visualizar quais categorias geram maior receita"
   ]
  },
  {
   "cell_type": "code",
   "execution_count": 113,
   "id": "6c71263f-d5e5-4287-b012-8494216030d7",
   "metadata": {},
   "outputs": [],
   "source": [
    "revenue_by_category = coffe_df.groupby('product_category')['total_value'].sum().reset_index()"
   ]
  },
  {
   "cell_type": "code",
   "execution_count": 114,
   "id": "6bc7ef92-2766-4ba4-a9e6-7aea54ab6709",
   "metadata": {},
   "outputs": [
    {
     "data": {
      "text/html": [
       "<div>\n",
       "<style scoped>\n",
       "    .dataframe tbody tr th:only-of-type {\n",
       "        vertical-align: middle;\n",
       "    }\n",
       "\n",
       "    .dataframe tbody tr th {\n",
       "        vertical-align: top;\n",
       "    }\n",
       "\n",
       "    .dataframe thead th {\n",
       "        text-align: right;\n",
       "    }\n",
       "</style>\n",
       "<table border=\"1\" class=\"dataframe\">\n",
       "  <thead>\n",
       "    <tr style=\"text-align: right;\">\n",
       "      <th></th>\n",
       "      <th>product_category</th>\n",
       "      <th>total_value</th>\n",
       "    </tr>\n",
       "  </thead>\n",
       "  <tbody>\n",
       "    <tr>\n",
       "      <th>2</th>\n",
       "      <td>Coffee</td>\n",
       "      <td>269952.45</td>\n",
       "    </tr>\n",
       "    <tr>\n",
       "      <th>8</th>\n",
       "      <td>Tea</td>\n",
       "      <td>196405.95</td>\n",
       "    </tr>\n",
       "    <tr>\n",
       "      <th>0</th>\n",
       "      <td>Bakery</td>\n",
       "      <td>82315.64</td>\n",
       "    </tr>\n",
       "    <tr>\n",
       "      <th>4</th>\n",
       "      <td>Drinking Chocolate</td>\n",
       "      <td>72416.00</td>\n",
       "    </tr>\n",
       "    <tr>\n",
       "      <th>3</th>\n",
       "      <td>Coffee beans</td>\n",
       "      <td>40085.25</td>\n",
       "    </tr>\n",
       "    <tr>\n",
       "      <th>1</th>\n",
       "      <td>Branded</td>\n",
       "      <td>13607.00</td>\n",
       "    </tr>\n",
       "    <tr>\n",
       "      <th>6</th>\n",
       "      <td>Loose Tea</td>\n",
       "      <td>11213.60</td>\n",
       "    </tr>\n",
       "    <tr>\n",
       "      <th>5</th>\n",
       "      <td>Flavours</td>\n",
       "      <td>8408.80</td>\n",
       "    </tr>\n",
       "    <tr>\n",
       "      <th>7</th>\n",
       "      <td>Packaged Chocolate</td>\n",
       "      <td>4407.64</td>\n",
       "    </tr>\n",
       "  </tbody>\n",
       "</table>\n",
       "</div>"
      ],
      "text/plain": [
       "     product_category  total_value\n",
       "2              Coffee    269952.45\n",
       "8                 Tea    196405.95\n",
       "0              Bakery     82315.64\n",
       "4  Drinking Chocolate     72416.00\n",
       "3        Coffee beans     40085.25\n",
       "1             Branded     13607.00\n",
       "6           Loose Tea     11213.60\n",
       "5            Flavours      8408.80\n",
       "7  Packaged Chocolate      4407.64"
      ]
     },
     "execution_count": 114,
     "metadata": {},
     "output_type": "execute_result"
    }
   ],
   "source": [
    "revenue_by_category.sort_values(by='total_value', ascending=False)"
   ]
  },
  {
   "cell_type": "markdown",
   "id": "d30bb09f-5d24-4d11-870f-d68e94a8624c",
   "metadata": {},
   "source": [
    "# Produtos Mais Vendidos\n",
    "### Objetivo no Power BI: Criar rankings ou gráficos para destacar os produtos mais populares."
   ]
  },
  {
   "cell_type": "code",
   "execution_count": 115,
   "id": "bfd22451-5e13-4a3f-b9b8-fc914fa20907",
   "metadata": {},
   "outputs": [],
   "source": [
    "top_products = coffe_df.groupby('product_detail')['transaction_qty'].sum().reset_index()\n",
    "top_products = top_products.sort_values(by='transaction_qty', ascending=False)"
   ]
  },
  {
   "cell_type": "code",
   "execution_count": 116,
   "id": "51405457-a66c-4cfe-98e1-911f5fd929b6",
   "metadata": {},
   "outputs": [
    {
     "data": {
      "text/html": [
       "<div>\n",
       "<style scoped>\n",
       "    .dataframe tbody tr th:only-of-type {\n",
       "        vertical-align: middle;\n",
       "    }\n",
       "\n",
       "    .dataframe tbody tr th {\n",
       "        vertical-align: top;\n",
       "    }\n",
       "\n",
       "    .dataframe thead th {\n",
       "        text-align: right;\n",
       "    }\n",
       "</style>\n",
       "<table border=\"1\" class=\"dataframe\">\n",
       "  <thead>\n",
       "    <tr style=\"text-align: right;\">\n",
       "      <th></th>\n",
       "      <th>product_detail</th>\n",
       "      <th>transaction_qty</th>\n",
       "    </tr>\n",
       "  </thead>\n",
       "  <tbody>\n",
       "    <tr>\n",
       "      <th>24</th>\n",
       "      <td>Earl Grey Rg</td>\n",
       "      <td>4708</td>\n",
       "    </tr>\n",
       "    <tr>\n",
       "      <th>20</th>\n",
       "      <td>Dark chocolate Lg</td>\n",
       "      <td>4668</td>\n",
       "    </tr>\n",
       "    <tr>\n",
       "      <th>54</th>\n",
       "      <td>Morning Sunrise Chai Rg</td>\n",
       "      <td>4643</td>\n",
       "    </tr>\n",
       "    <tr>\n",
       "      <th>47</th>\n",
       "      <td>Latte</td>\n",
       "      <td>4602</td>\n",
       "    </tr>\n",
       "    <tr>\n",
       "      <th>64</th>\n",
       "      <td>Peppermint Rg</td>\n",
       "      <td>4564</td>\n",
       "    </tr>\n",
       "  </tbody>\n",
       "</table>\n",
       "</div>"
      ],
      "text/plain": [
       "             product_detail  transaction_qty\n",
       "24             Earl Grey Rg             4708\n",
       "20        Dark chocolate Lg             4668\n",
       "54  Morning Sunrise Chai Rg             4643\n",
       "47                    Latte             4602\n",
       "64            Peppermint Rg             4564"
      ]
     },
     "execution_count": 116,
     "metadata": {},
     "output_type": "execute_result"
    }
   ],
   "source": [
    "top_products.head()"
   ]
  },
  {
   "cell_type": "markdown",
   "id": "16d34ab8-179f-4425-bae3-1e43c311ed24",
   "metadata": {},
   "source": [
    "# Receita por Período do Dia\n",
    "### Objetivo no Power BI: Visualizar padrões de consumo por horário (ex.: gráfico de linha ou barras)."
   ]
  },
  {
   "cell_type": "code",
   "execution_count": 117,
   "id": "74a06753-306b-4c1a-bb8a-593d6cd86cf3",
   "metadata": {},
   "outputs": [],
   "source": [
    "def classify_time(row):\n",
    "    hour = int(row.split(':')[0])\n",
    "    if 6 <= hour < 12:\n",
    "        return 'Manhã'\n",
    "    elif 12 <= hour < 18:\n",
    "        return 'Tarde'\n",
    "    else:\n",
    "        return 'Noite'\n",
    "\n",
    "coffe_df['period_of_day'] = coffe_df['transaction_time'].apply(classify_time)\n",
    "\n",
    "revenue_by_period = coffe_df.groupby('period_of_day')['total_value'].sum().reset_index()"
   ]
  },
  {
   "cell_type": "code",
   "execution_count": 118,
   "id": "13cf489e-b7c9-49e9-bd46-0201eb89b7b7",
   "metadata": {},
   "outputs": [
    {
     "data": {
      "text/html": [
       "<div>\n",
       "<style scoped>\n",
       "    .dataframe tbody tr th:only-of-type {\n",
       "        vertical-align: middle;\n",
       "    }\n",
       "\n",
       "    .dataframe tbody tr th {\n",
       "        vertical-align: top;\n",
       "    }\n",
       "\n",
       "    .dataframe thead th {\n",
       "        text-align: right;\n",
       "    }\n",
       "</style>\n",
       "<table border=\"1\" class=\"dataframe\">\n",
       "  <thead>\n",
       "    <tr style=\"text-align: right;\">\n",
       "      <th></th>\n",
       "      <th>period_of_day</th>\n",
       "      <th>total_value</th>\n",
       "    </tr>\n",
       "  </thead>\n",
       "  <tbody>\n",
       "    <tr>\n",
       "      <th>0</th>\n",
       "      <td>Manhã</td>\n",
       "      <td>388288.67</td>\n",
       "    </tr>\n",
       "    <tr>\n",
       "      <th>1</th>\n",
       "      <td>Noite</td>\n",
       "      <td>65668.52</td>\n",
       "    </tr>\n",
       "    <tr>\n",
       "      <th>2</th>\n",
       "      <td>Tarde</td>\n",
       "      <td>244855.14</td>\n",
       "    </tr>\n",
       "  </tbody>\n",
       "</table>\n",
       "</div>"
      ],
      "text/plain": [
       "  period_of_day  total_value\n",
       "0         Manhã    388288.67\n",
       "1         Noite     65668.52\n",
       "2         Tarde    244855.14"
      ]
     },
     "execution_count": 118,
     "metadata": {},
     "output_type": "execute_result"
    }
   ],
   "source": [
    "revenue_by_period"
   ]
  },
  {
   "cell_type": "markdown",
   "id": "e8ff95f8-0f18-4540-9827-4a8f51b529df",
   "metadata": {},
   "source": [
    "# Ticket Médio por Loja\n",
    "### Objetivo no Power BI: Comparar lojas com maior ticket médio."
   ]
  },
  {
   "cell_type": "code",
   "execution_count": 119,
   "id": "173f12b5-c829-48d6-8265-301302489a33",
   "metadata": {},
   "outputs": [],
   "source": [
    "avg_ticket_by_store = coffe_df.groupby('store_location')['total_value'].mean().reset_index()"
   ]
  },
  {
   "cell_type": "code",
   "execution_count": 120,
   "id": "5e01d379-a645-4523-bec2-c08098c45467",
   "metadata": {},
   "outputs": [
    {
     "data": {
      "text/html": [
       "<div>\n",
       "<style scoped>\n",
       "    .dataframe tbody tr th:only-of-type {\n",
       "        vertical-align: middle;\n",
       "    }\n",
       "\n",
       "    .dataframe tbody tr th {\n",
       "        vertical-align: top;\n",
       "    }\n",
       "\n",
       "    .dataframe thead th {\n",
       "        text-align: right;\n",
       "    }\n",
       "</style>\n",
       "<table border=\"1\" class=\"dataframe\">\n",
       "  <thead>\n",
       "    <tr style=\"text-align: right;\">\n",
       "      <th></th>\n",
       "      <th>store_location</th>\n",
       "      <th>total_value</th>\n",
       "    </tr>\n",
       "  </thead>\n",
       "  <tbody>\n",
       "    <tr>\n",
       "      <th>0</th>\n",
       "      <td>Astoria</td>\n",
       "      <td>4.589891</td>\n",
       "    </tr>\n",
       "    <tr>\n",
       "      <th>1</th>\n",
       "      <td>Hell's Kitchen</td>\n",
       "      <td>4.661696</td>\n",
       "    </tr>\n",
       "    <tr>\n",
       "      <th>2</th>\n",
       "      <td>Lower Manhattan</td>\n",
       "      <td>4.814726</td>\n",
       "    </tr>\n",
       "  </tbody>\n",
       "</table>\n",
       "</div>"
      ],
      "text/plain": [
       "    store_location  total_value\n",
       "0          Astoria     4.589891\n",
       "1   Hell's Kitchen     4.661696\n",
       "2  Lower Manhattan     4.814726"
      ]
     },
     "execution_count": 120,
     "metadata": {},
     "output_type": "execute_result"
    }
   ],
   "source": [
    "avg_ticket_by_store"
   ]
  },
  {
   "cell_type": "markdown",
   "id": "aa95d80d-6a7c-475b-ac55-83b953380a39",
   "metadata": {},
   "source": [
    "# Performance por Tipo de Produto\n",
    "### Objetivo no Power BI: Verificar qual tipo de produto é mais rentável e popular."
   ]
  },
  {
   "cell_type": "code",
   "execution_count": 121,
   "id": "f04fd84a-928e-4b78-9b40-580fd203c189",
   "metadata": {},
   "outputs": [],
   "source": [
    "performance_by_product_type = coffe_df.groupby('product_type').agg(\n",
    "    total_revenue=('total_value', 'sum'),\n",
    "    total_quantity=('transaction_qty', 'sum')\n",
    ").reset_index()"
   ]
  },
  {
   "cell_type": "code",
   "execution_count": 122,
   "id": "497be0a7-4c9c-4011-9ac7-896887589f93",
   "metadata": {},
   "outputs": [
    {
     "data": {
      "text/html": [
       "<div>\n",
       "<style scoped>\n",
       "    .dataframe tbody tr th:only-of-type {\n",
       "        vertical-align: middle;\n",
       "    }\n",
       "\n",
       "    .dataframe tbody tr th {\n",
       "        vertical-align: top;\n",
       "    }\n",
       "\n",
       "    .dataframe thead th {\n",
       "        text-align: right;\n",
       "    }\n",
       "</style>\n",
       "<table border=\"1\" class=\"dataframe\">\n",
       "  <thead>\n",
       "    <tr style=\"text-align: right;\">\n",
       "      <th></th>\n",
       "      <th>product_type</th>\n",
       "      <th>total_revenue</th>\n",
       "      <th>total_quantity</th>\n",
       "    </tr>\n",
       "  </thead>\n",
       "  <tbody>\n",
       "    <tr>\n",
       "      <th>0</th>\n",
       "      <td>Barista Espresso</td>\n",
       "      <td>91406.20</td>\n",
       "      <td>24943</td>\n",
       "    </tr>\n",
       "    <tr>\n",
       "      <th>1</th>\n",
       "      <td>Biscotti</td>\n",
       "      <td>19793.53</td>\n",
       "      <td>5788</td>\n",
       "    </tr>\n",
       "    <tr>\n",
       "      <th>2</th>\n",
       "      <td>Black tea</td>\n",
       "      <td>2711.85</td>\n",
       "      <td>303</td>\n",
       "    </tr>\n",
       "    <tr>\n",
       "      <th>3</th>\n",
       "      <td>Brewed Black tea</td>\n",
       "      <td>47932.00</td>\n",
       "      <td>17462</td>\n",
       "    </tr>\n",
       "    <tr>\n",
       "      <th>4</th>\n",
       "      <td>Brewed Chai tea</td>\n",
       "      <td>77081.95</td>\n",
       "      <td>26250</td>\n",
       "    </tr>\n",
       "  </tbody>\n",
       "</table>\n",
       "</div>"
      ],
      "text/plain": [
       "       product_type  total_revenue  total_quantity\n",
       "0  Barista Espresso       91406.20           24943\n",
       "1          Biscotti       19793.53            5788\n",
       "2         Black tea        2711.85             303\n",
       "3  Brewed Black tea       47932.00           17462\n",
       "4   Brewed Chai tea       77081.95           26250"
      ]
     },
     "execution_count": 122,
     "metadata": {},
     "output_type": "execute_result"
    }
   ],
   "source": [
    "performance_by_product_type.head()"
   ]
  },
  {
   "cell_type": "markdown",
   "id": "87744009-cc37-40bc-bf95-57b6454a5bf4",
   "metadata": {},
   "source": [
    "# Receita Mensal\n",
    "### Objetivo no Power BI: Criar gráficos de tendência ao longo do tempo (ex.: gráfico de linha)."
   ]
  },
  {
   "cell_type": "code",
   "execution_count": 123,
   "id": "d3957f75-8e5c-4276-a76c-9dcc4ce2f0ed",
   "metadata": {},
   "outputs": [],
   "source": [
    "coffe_df['month'] = pd.to_datetime(coffe_df['transaction_date']).dt.month\n",
    "\n",
    "revenue_by_month = coffe_df.groupby('month')['total_value'].sum().reset_index()"
   ]
  },
  {
   "cell_type": "code",
   "execution_count": 124,
   "id": "e354775f-8ef6-4148-a06e-770aa9af7cda",
   "metadata": {},
   "outputs": [
    {
     "data": {
      "text/html": [
       "<div>\n",
       "<style scoped>\n",
       "    .dataframe tbody tr th:only-of-type {\n",
       "        vertical-align: middle;\n",
       "    }\n",
       "\n",
       "    .dataframe tbody tr th {\n",
       "        vertical-align: top;\n",
       "    }\n",
       "\n",
       "    .dataframe thead th {\n",
       "        text-align: right;\n",
       "    }\n",
       "</style>\n",
       "<table border=\"1\" class=\"dataframe\">\n",
       "  <thead>\n",
       "    <tr style=\"text-align: right;\">\n",
       "      <th></th>\n",
       "      <th>month</th>\n",
       "      <th>total_value</th>\n",
       "    </tr>\n",
       "  </thead>\n",
       "  <tbody>\n",
       "    <tr>\n",
       "      <th>0</th>\n",
       "      <td>1</td>\n",
       "      <td>81677.74</td>\n",
       "    </tr>\n",
       "    <tr>\n",
       "      <th>1</th>\n",
       "      <td>2</td>\n",
       "      <td>76145.19</td>\n",
       "    </tr>\n",
       "    <tr>\n",
       "      <th>2</th>\n",
       "      <td>3</td>\n",
       "      <td>98834.68</td>\n",
       "    </tr>\n",
       "    <tr>\n",
       "      <th>3</th>\n",
       "      <td>4</td>\n",
       "      <td>118941.08</td>\n",
       "    </tr>\n",
       "    <tr>\n",
       "      <th>4</th>\n",
       "      <td>5</td>\n",
       "      <td>156727.76</td>\n",
       "    </tr>\n",
       "    <tr>\n",
       "      <th>5</th>\n",
       "      <td>6</td>\n",
       "      <td>166485.88</td>\n",
       "    </tr>\n",
       "  </tbody>\n",
       "</table>\n",
       "</div>"
      ],
      "text/plain": [
       "   month  total_value\n",
       "0      1     81677.74\n",
       "1      2     76145.19\n",
       "2      3     98834.68\n",
       "3      4    118941.08\n",
       "4      5    156727.76\n",
       "5      6    166485.88"
      ]
     },
     "execution_count": 124,
     "metadata": {},
     "output_type": "execute_result"
    }
   ],
   "source": [
    "revenue_by_month"
   ]
  },
  {
   "cell_type": "markdown",
   "id": "e2bbaa42-0ba1-4f60-8e89-d64a0598b535",
   "metadata": {},
   "source": [
    "# Clientes Frequentes (Simulado)\n",
    "### Objetivo no Power BI: Criar uma simulação de clientes com base nos IDs de transação, agrupando por frequência de compras fictícia e visualizar o comportamento de compras recorrentes."
   ]
  },
  {
   "cell_type": "code",
   "execution_count": 125,
   "id": "4335ac6d-8fc5-49f4-86f1-9348647ed204",
   "metadata": {},
   "outputs": [],
   "source": [
    "# Simulando IDs de clientes a partir de `transaction_id`\n",
    "coffe_df['customer_id'] = coffe_df['transaction_id'].apply(lambda x: f\"Customer_{x % 100}\")\n",
    "\n",
    "frequent_customers = coffe_df.groupby('customer_id').agg(\n",
    "    total_purchases=('transaction_id', 'count'),\n",
    "    total_revenue=('total_value', 'sum')\n",
    ").reset_index()\n",
    "frequent_customers = frequent_customers.sort_values(by='total_purchases', ascending=False)\n"
   ]
  },
  {
   "cell_type": "code",
   "execution_count": 126,
   "id": "ce08def4-b18b-45f6-a4dc-0277bc21e049",
   "metadata": {},
   "outputs": [
    {
     "data": {
      "text/html": [
       "<div>\n",
       "<style scoped>\n",
       "    .dataframe tbody tr th:only-of-type {\n",
       "        vertical-align: middle;\n",
       "    }\n",
       "\n",
       "    .dataframe tbody tr th {\n",
       "        vertical-align: top;\n",
       "    }\n",
       "\n",
       "    .dataframe thead th {\n",
       "        text-align: right;\n",
       "    }\n",
       "</style>\n",
       "<table border=\"1\" class=\"dataframe\">\n",
       "  <thead>\n",
       "    <tr style=\"text-align: right;\">\n",
       "      <th></th>\n",
       "      <th>customer_id</th>\n",
       "      <th>total_purchases</th>\n",
       "      <th>total_revenue</th>\n",
       "    </tr>\n",
       "  </thead>\n",
       "  <tbody>\n",
       "    <tr>\n",
       "      <th>25</th>\n",
       "      <td>Customer_31</td>\n",
       "      <td>1494</td>\n",
       "      <td>7092.16</td>\n",
       "    </tr>\n",
       "    <tr>\n",
       "      <th>14</th>\n",
       "      <td>Customer_21</td>\n",
       "      <td>1494</td>\n",
       "      <td>6922.18</td>\n",
       "    </tr>\n",
       "    <tr>\n",
       "      <th>28</th>\n",
       "      <td>Customer_34</td>\n",
       "      <td>1494</td>\n",
       "      <td>6910.31</td>\n",
       "    </tr>\n",
       "    <tr>\n",
       "      <th>24</th>\n",
       "      <td>Customer_30</td>\n",
       "      <td>1494</td>\n",
       "      <td>7029.53</td>\n",
       "    </tr>\n",
       "    <tr>\n",
       "      <th>29</th>\n",
       "      <td>Customer_35</td>\n",
       "      <td>1494</td>\n",
       "      <td>6857.74</td>\n",
       "    </tr>\n",
       "  </tbody>\n",
       "</table>\n",
       "</div>"
      ],
      "text/plain": [
       "    customer_id  total_purchases  total_revenue\n",
       "25  Customer_31             1494        7092.16\n",
       "14  Customer_21             1494        6922.18\n",
       "28  Customer_34             1494        6910.31\n",
       "24  Customer_30             1494        7029.53\n",
       "29  Customer_35             1494        6857.74"
      ]
     },
     "execution_count": 126,
     "metadata": {},
     "output_type": "execute_result"
    }
   ],
   "source": [
    "frequent_customers.head()"
   ]
  },
  {
   "cell_type": "markdown",
   "id": "90546817-aa11-4d23-bbb5-fd2793766cc7",
   "metadata": {},
   "source": [
    "# Receita por Localização\n",
    "### Objetivo no Power BI: Criar um mapa para visualizar a performance geográfica das lojas."
   ]
  },
  {
   "cell_type": "code",
   "execution_count": 151,
   "id": "746268cd-9a3a-43e8-b6c5-4b24ebd2e634",
   "metadata": {},
   "outputs": [],
   "source": [
    "revenue_by_location = coffe_df.groupby('store_location')['total_value'].sum().reset_index()"
   ]
  },
  {
   "cell_type": "code",
   "execution_count": 152,
   "id": "1b9027f9-ef92-4d66-9879-03f1d227c7c2",
   "metadata": {},
   "outputs": [
    {
     "data": {
      "text/html": [
       "<div>\n",
       "<style scoped>\n",
       "    .dataframe tbody tr th:only-of-type {\n",
       "        vertical-align: middle;\n",
       "    }\n",
       "\n",
       "    .dataframe tbody tr th {\n",
       "        vertical-align: top;\n",
       "    }\n",
       "\n",
       "    .dataframe thead th {\n",
       "        text-align: right;\n",
       "    }\n",
       "</style>\n",
       "<table border=\"1\" class=\"dataframe\">\n",
       "  <thead>\n",
       "    <tr style=\"text-align: right;\">\n",
       "      <th></th>\n",
       "      <th>store_location</th>\n",
       "      <th>total_value</th>\n",
       "    </tr>\n",
       "  </thead>\n",
       "  <tbody>\n",
       "    <tr>\n",
       "      <th>0</th>\n",
       "      <td>Astoria</td>\n",
       "      <td>232243.91</td>\n",
       "    </tr>\n",
       "    <tr>\n",
       "      <th>1</th>\n",
       "      <td>Hell's Kitchen</td>\n",
       "      <td>236511.17</td>\n",
       "    </tr>\n",
       "    <tr>\n",
       "      <th>2</th>\n",
       "      <td>Lower Manhattan</td>\n",
       "      <td>230057.25</td>\n",
       "    </tr>\n",
       "  </tbody>\n",
       "</table>\n",
       "</div>"
      ],
      "text/plain": [
       "    store_location  total_value\n",
       "0          Astoria    232243.91\n",
       "1   Hell's Kitchen    236511.17\n",
       "2  Lower Manhattan    230057.25"
      ]
     },
     "execution_count": 152,
     "metadata": {},
     "output_type": "execute_result"
    }
   ],
   "source": [
    "revenue_by_location"
   ]
  },
  {
   "cell_type": "markdown",
   "id": "aad6eb94-7350-4111-a864-6d9b84910b99",
   "metadata": {},
   "source": [
    "# Análise de Outliers\n",
    "### Objetivo no Power BI: Mostrar transações excepcionais ou possíveis erros."
   ]
  },
  {
   "cell_type": "code",
   "execution_count": 129,
   "id": "68cb009f-14c1-4260-8434-6ee0edebe11c",
   "metadata": {},
   "outputs": [],
   "source": [
    "mean_value = coffe_df['total_value'].mean()\n",
    "std_value = coffe_df['total_value'].std()\n",
    "\n",
    "coffe_df['is_outlier'] = coffe_df['total_value'].apply(\n",
    "    lambda x: 'Outlier' if (x > mean_value + 3 * std_value or x < mean_value - 3 * std_value) else 'Normal'\n",
    ")"
   ]
  },
  {
   "cell_type": "code",
   "execution_count": 130,
   "id": "d43a8b05-c5f8-4b1b-a845-1c4b2ccc8404",
   "metadata": {},
   "outputs": [
    {
     "data": {
      "text/html": [
       "<div>\n",
       "<style scoped>\n",
       "    .dataframe tbody tr th:only-of-type {\n",
       "        vertical-align: middle;\n",
       "    }\n",
       "\n",
       "    .dataframe tbody tr th {\n",
       "        vertical-align: top;\n",
       "    }\n",
       "\n",
       "    .dataframe thead th {\n",
       "        text-align: right;\n",
       "    }\n",
       "</style>\n",
       "<table border=\"1\" class=\"dataframe\">\n",
       "  <thead>\n",
       "    <tr style=\"text-align: right;\">\n",
       "      <th></th>\n",
       "      <th>is_outlier</th>\n",
       "      <th>total_value</th>\n",
       "    </tr>\n",
       "  </thead>\n",
       "  <tbody>\n",
       "    <tr>\n",
       "      <th>0</th>\n",
       "      <td>Normal</td>\n",
       "      <td>6.0</td>\n",
       "    </tr>\n",
       "    <tr>\n",
       "      <th>1</th>\n",
       "      <td>Normal</td>\n",
       "      <td>6.2</td>\n",
       "    </tr>\n",
       "    <tr>\n",
       "      <th>2</th>\n",
       "      <td>Normal</td>\n",
       "      <td>9.0</td>\n",
       "    </tr>\n",
       "    <tr>\n",
       "      <th>3</th>\n",
       "      <td>Normal</td>\n",
       "      <td>2.0</td>\n",
       "    </tr>\n",
       "    <tr>\n",
       "      <th>4</th>\n",
       "      <td>Normal</td>\n",
       "      <td>6.2</td>\n",
       "    </tr>\n",
       "  </tbody>\n",
       "</table>\n",
       "</div>"
      ],
      "text/plain": [
       "  is_outlier  total_value\n",
       "0     Normal          6.0\n",
       "1     Normal          6.2\n",
       "2     Normal          9.0\n",
       "3     Normal          2.0\n",
       "4     Normal          6.2"
      ]
     },
     "execution_count": 130,
     "metadata": {},
     "output_type": "execute_result"
    }
   ],
   "source": [
    "coffe_df[['is_outlier', 'total_value']].head()"
   ]
  },
  {
   "cell_type": "markdown",
   "id": "ab50846f-ce6b-421f-8352-14de933da729",
   "metadata": {},
   "source": [
    "# Taxa de Conversão por Produto\n",
    "### Objetivo no Power BI: Identificar produtos com maior eficiência de vendas."
   ]
  },
  {
   "cell_type": "code",
   "execution_count": 131,
   "id": "3fab9c4c-2051-47f0-862c-cf4aa30ed39b",
   "metadata": {},
   "outputs": [],
   "source": [
    "coffe_df['conversion_rate'] = coffe_df['transaction_qty'] / coffe_df['transaction_qty'].sum()"
   ]
  },
  {
   "cell_type": "code",
   "execution_count": 132,
   "id": "a18bc7d9-53c8-450e-a707-019a528d0dfe",
   "metadata": {},
   "outputs": [
    {
     "data": {
      "text/html": [
       "<div>\n",
       "<style scoped>\n",
       "    .dataframe tbody tr th:only-of-type {\n",
       "        vertical-align: middle;\n",
       "    }\n",
       "\n",
       "    .dataframe tbody tr th {\n",
       "        vertical-align: top;\n",
       "    }\n",
       "\n",
       "    .dataframe thead th {\n",
       "        text-align: right;\n",
       "    }\n",
       "</style>\n",
       "<table border=\"1\" class=\"dataframe\">\n",
       "  <thead>\n",
       "    <tr style=\"text-align: right;\">\n",
       "      <th></th>\n",
       "      <th>conversion_rate</th>\n",
       "      <th>transaction_qty</th>\n",
       "      <th>product_detail</th>\n",
       "    </tr>\n",
       "  </thead>\n",
       "  <tbody>\n",
       "    <tr>\n",
       "      <th>0</th>\n",
       "      <td>0.000009</td>\n",
       "      <td>2</td>\n",
       "      <td>Ethiopia Rg</td>\n",
       "    </tr>\n",
       "    <tr>\n",
       "      <th>1</th>\n",
       "      <td>0.000009</td>\n",
       "      <td>2</td>\n",
       "      <td>Spicy Eye Opener Chai Lg</td>\n",
       "    </tr>\n",
       "    <tr>\n",
       "      <th>2</th>\n",
       "      <td>0.000009</td>\n",
       "      <td>2</td>\n",
       "      <td>Dark chocolate Lg</td>\n",
       "    </tr>\n",
       "    <tr>\n",
       "      <th>3</th>\n",
       "      <td>0.000005</td>\n",
       "      <td>1</td>\n",
       "      <td>Our Old Time Diner Blend Sm</td>\n",
       "    </tr>\n",
       "    <tr>\n",
       "      <th>4</th>\n",
       "      <td>0.000009</td>\n",
       "      <td>2</td>\n",
       "      <td>Spicy Eye Opener Chai Lg</td>\n",
       "    </tr>\n",
       "  </tbody>\n",
       "</table>\n",
       "</div>"
      ],
      "text/plain": [
       "   conversion_rate  transaction_qty               product_detail\n",
       "0         0.000009                2                  Ethiopia Rg\n",
       "1         0.000009                2     Spicy Eye Opener Chai Lg\n",
       "2         0.000009                2            Dark chocolate Lg\n",
       "3         0.000005                1  Our Old Time Diner Blend Sm\n",
       "4         0.000009                2     Spicy Eye Opener Chai Lg"
      ]
     },
     "execution_count": 132,
     "metadata": {},
     "output_type": "execute_result"
    }
   ],
   "source": [
    "coffe_df[['conversion_rate', 'transaction_qty', 'product_detail']].head()"
   ]
  },
  {
   "cell_type": "markdown",
   "id": "04a77835-0b6f-445d-a4dd-ae3195ea30ff",
   "metadata": {},
   "source": [
    "# Conversão para CSV\n",
    "### Conversão dos dataframes em CSV"
   ]
  },
  {
   "cell_type": "code",
   "execution_count": 133,
   "id": "f831985d-c5ac-42d1-bc4a-061f8fefcfae",
   "metadata": {},
   "outputs": [],
   "source": [
    "revenue_by_category.to_csv('C:/Data/Coffe_Sales_Revenue_by_Category.csv', index=True)\n",
    "top_products.to_csv('C:/Data/Coffe_Sales_Top_Products.csv', index=True)\n",
    "revenue_by_period.to_csv('C:/Data/Coffe_Sales_Revenue_by_Period.csv', index=True)\n",
    "avg_ticket_by_store.to_csv('C:/Data/Coffe_Sales_AVG_Ticket_by_Store.csv', index=True)\n",
    "performance_by_product_type.to_csv('C:/Coffe_Sales_Performance_by_Product_Type.csv', index=True)\n",
    "revenue_by_month.to_csv('C:/Coffe_Sales_Revenue_by_Month.csv', index=True)\n",
    "frequent_customers.to_csv('C:/Coffe_Sales_Frequent_Customers.csv', index=True)\n",
    "revenue_by_location.to_csv('C:/Coffe_Sales_Revenue_by_Location.csv', index=True)\n",
    "coffe_df.to_csv('C:/Coffe_Sales_and_Outlier_and_Conversion_Rate.csv', index=True)"
   ]
  },
  {
   "cell_type": "code",
   "execution_count": null,
   "id": "34da2adf-77a6-4631-ba48-2cc642e89c6e",
   "metadata": {},
   "outputs": [],
   "source": []
  }
 ],
 "metadata": {
  "kernelspec": {
   "display_name": "Python 3 (ipykernel)",
   "language": "python",
   "name": "python3"
  },
  "language_info": {
   "codemirror_mode": {
    "name": "ipython",
    "version": 3
   },
   "file_extension": ".py",
   "mimetype": "text/x-python",
   "name": "python",
   "nbconvert_exporter": "python",
   "pygments_lexer": "ipython3",
   "version": "3.12.7"
  }
 },
 "nbformat": 4,
 "nbformat_minor": 5
}
